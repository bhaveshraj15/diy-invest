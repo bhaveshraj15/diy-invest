{
 "cells": [
  {
   "cell_type": "code",
   "execution_count": 1,
   "id": "a5436300",
   "metadata": {
    "_cell_guid": "b1076dfc-b9ad-4769-8c92-a6c4dae69d19",
    "_uuid": "8f2839f25d086af736a60e9eeb907d3b93b6e0e5",
    "execution": {
     "iopub.execute_input": "2024-10-05T06:17:32.515636Z",
     "iopub.status.busy": "2024-10-05T06:17:32.514430Z",
     "iopub.status.idle": "2024-10-05T06:18:19.357058Z",
     "shell.execute_reply": "2024-10-05T06:18:19.355390Z"
    },
    "papermill": {
     "duration": 46.851895,
     "end_time": "2024-10-05T06:18:19.359938",
     "exception": false,
     "start_time": "2024-10-05T06:17:32.508043",
     "status": "completed"
    },
    "scrolled": true,
    "tags": []
   },
   "outputs": [
    {
     "name": "stdout",
     "output_type": "stream",
     "text": [
      "Requirement already satisfied: yfinance in c:\\users\\bhavesh\\appdata\\local\\programs\\python\\python311\\lib\\site-packages (0.2.40)\n",
      "Requirement already satisfied: pandas>=1.3.0 in c:\\users\\bhavesh\\appdata\\local\\programs\\python\\python311\\lib\\site-packages (from yfinance) (2.0.3)\n",
      "Requirement already satisfied: numpy>=1.16.5 in c:\\users\\bhavesh\\appdata\\local\\programs\\python\\python311\\lib\\site-packages (from yfinance) (1.24.3)\n",
      "Requirement already satisfied: requests>=2.31 in c:\\users\\bhavesh\\appdata\\local\\programs\\python\\python311\\lib\\site-packages (from yfinance) (2.31.0)\n",
      "Requirement already satisfied: multitasking>=0.0.7 in c:\\users\\bhavesh\\appdata\\local\\programs\\python\\python311\\lib\\site-packages (from yfinance) (0.0.11)\n",
      "Requirement already satisfied: lxml>=4.9.1 in c:\\users\\bhavesh\\appdata\\local\\programs\\python\\python311\\lib\\site-packages (from yfinance) (5.2.2)\n",
      "Requirement already satisfied: platformdirs>=2.0.0 in c:\\users\\bhavesh\\appdata\\local\\programs\\python\\python311\\lib\\site-packages (from yfinance) (4.2.2)\n",
      "Requirement already satisfied: pytz>=2022.5 in c:\\users\\bhavesh\\appdata\\local\\programs\\python\\python311\\lib\\site-packages (from yfinance) (2023.3)\n",
      "Requirement already satisfied: frozendict>=2.3.4 in c:\\users\\bhavesh\\appdata\\local\\programs\\python\\python311\\lib\\site-packages (from yfinance) (2.4.4)\n",
      "Requirement already satisfied: peewee>=3.16.2 in c:\\users\\bhavesh\\appdata\\local\\programs\\python\\python311\\lib\\site-packages (from yfinance) (3.17.6)\n",
      "Requirement already satisfied: beautifulsoup4>=4.11.1 in c:\\users\\bhavesh\\appdata\\local\\programs\\python\\python311\\lib\\site-packages (from yfinance) (4.12.3)\n",
      "Requirement already satisfied: html5lib>=1.1 in c:\\users\\bhavesh\\appdata\\local\\programs\\python\\python311\\lib\\site-packages (from yfinance) (1.1)\n",
      "Requirement already satisfied: soupsieve>1.2 in c:\\users\\bhavesh\\appdata\\local\\programs\\python\\python311\\lib\\site-packages (from beautifulsoup4>=4.11.1->yfinance) (2.5)\n",
      "Requirement already satisfied: six>=1.9 in c:\\users\\bhavesh\\appdata\\local\\programs\\python\\python311\\lib\\site-packages (from html5lib>=1.1->yfinance) (1.16.0)\n",
      "Requirement already satisfied: webencodings in c:\\users\\bhavesh\\appdata\\local\\programs\\python\\python311\\lib\\site-packages (from html5lib>=1.1->yfinance) (0.5.1)\n",
      "Requirement already satisfied: python-dateutil>=2.8.2 in c:\\users\\bhavesh\\appdata\\local\\programs\\python\\python311\\lib\\site-packages (from pandas>=1.3.0->yfinance) (2.8.2)\n",
      "Requirement already satisfied: tzdata>=2022.1 in c:\\users\\bhavesh\\appdata\\local\\programs\\python\\python311\\lib\\site-packages (from pandas>=1.3.0->yfinance) (2023.3)\n",
      "Requirement already satisfied: charset-normalizer<4,>=2 in c:\\users\\bhavesh\\appdata\\local\\programs\\python\\python311\\lib\\site-packages (from requests>=2.31->yfinance) (3.2.0)\n",
      "Requirement already satisfied: idna<4,>=2.5 in c:\\users\\bhavesh\\appdata\\local\\programs\\python\\python311\\lib\\site-packages (from requests>=2.31->yfinance) (3.4)\n",
      "Requirement already satisfied: urllib3<3,>=1.21.1 in c:\\users\\bhavesh\\appdata\\local\\programs\\python\\python311\\lib\\site-packages (from requests>=2.31->yfinance) (1.26.16)\n",
      "Requirement already satisfied: certifi>=2017.4.17 in c:\\users\\bhavesh\\appdata\\local\\programs\\python\\python311\\lib\\site-packages (from requests>=2.31->yfinance) (2023.7.22)\n",
      "Note: you may need to restart the kernel to use updated packages.\n"
     ]
    }
   ],
   "source": [
    "pip install yfinance"
   ]
  },
  {
   "cell_type": "code",
   "execution_count": 2,
   "id": "15e6a76d",
   "metadata": {
    "execution": {
     "iopub.execute_input": "2024-10-05T06:18:19.376840Z",
     "iopub.status.busy": "2024-10-05T06:18:19.376384Z",
     "iopub.status.idle": "2024-10-05T06:18:20.928321Z",
     "shell.execute_reply": "2024-10-05T06:18:20.927115Z"
    },
    "papermill": {
     "duration": 1.564056,
     "end_time": "2024-10-05T06:18:20.931376",
     "exception": false,
     "start_time": "2024-10-05T06:18:19.367320",
     "status": "completed"
    },
    "tags": []
   },
   "outputs": [],
   "source": [
    "import yfinance as yf\n",
    "import pandas as pd\n",
    "import numpy as np\n",
    "from datetime import datetime, timedelta\n",
    "import matplotlib.pyplot as plt\n",
    "from matplotlib.table import Table"
   ]
  },
  {
   "cell_type": "code",
   "execution_count": 3,
   "id": "87faa65f",
   "metadata": {
    "execution": {
     "iopub.execute_input": "2024-10-05T06:18:20.948770Z",
     "iopub.status.busy": "2024-10-05T06:18:20.948163Z",
     "iopub.status.idle": "2024-10-05T06:18:20.966121Z",
     "shell.execute_reply": "2024-10-05T06:18:20.964975Z"
    },
    "papermill": {
     "duration": 0.029476,
     "end_time": "2024-10-05T06:18:20.968919",
     "exception": false,
     "start_time": "2024-10-05T06:18:20.939443",
     "status": "completed"
    },
    "scrolled": true,
    "tags": []
   },
   "outputs": [],
   "source": [
    "# Function to fetch historical data\n",
    "def get_data(ticker, start_date, end_date):\n",
    "    return yf.download(ticker, start=start_date, end=end_date)\n",
    "\n",
    "# Set dates\n",
    "end_date = datetime.today()\n",
    "start_date = end_date - timedelta(days=366 * 2)  # 2 years of data for moving averages\n",
    "\n",
    "def calculate_sharpe_ratio(stock_ticker, period, risk_free_rate=0.065):\n",
    "    #start_dt = datetime.today() - timedelta(days = period * 40)\n",
    "    #stock_data = pd.DataFrame(get_data(stock_ticker, start_dt, datetime.today()))[(period*-21)-1:]\n",
    "    stock_data = data[stock_ticker.upper()][(period*-21)-1:]\n",
    "    stock_data.sort_index(inplace=True)\n",
    "    stock_data = stock_data.drop(stock_data.columns.difference(['Close']), axis=1)\n",
    "    stock_data['daily_return'] = stock_data['Close'].pct_change()\n",
    "    stock_data.dropna(subset=['daily_return'], inplace=True)\n",
    "    sum_daily_return = stock_data['daily_return'].sum()\n",
    "    std_daily_return = stock_data['daily_return'].std()\n",
    "    period_std = std_daily_return * np.sqrt(period*21)\n",
    "    sharpe_ratio = (sum_daily_return - risk_free_rate*(period/12)) / period_std\n",
    "    return sharpe_ratio\n",
    "\n",
    "def calculate_sortino_ratio(stock_ticker, period, risk_free_rate =0.065):\n",
    "    #start_dt = datetime.today() - timedelta(days = period * 40)\n",
    "    #stock_data = pd.DataFrame(get_data(stock_ticker, start_dt, datetime.today()))[(period*-21)-1:]\n",
    "    stock_data = data[stock_ticker.upper()][(period*-21)-1:]\n",
    "    stock_data.sort_index(inplace=True)\n",
    "    stock_data = stock_data.drop(stock_data.columns.difference(['Close']), axis=1)\n",
    "    stock_data['daily_return'] = stock_data['Close'].pct_change()\n",
    "    stock_data.dropna(subset=['daily_return'], inplace=True)\n",
    "    sum_daily_return = stock_data['daily_return'].sum()\n",
    "    stock_data['daily_return_neg'] = stock_data['daily_return'].where(stock_data['daily_return']<0)\n",
    "    std_daily_return = (stock_data['daily_return_neg']).std()\n",
    "    period_std = std_daily_return * np.sqrt(period*21)\n",
    "    sortino_ratio = (sum_daily_return - risk_free_rate*(period/12)) / period_std\n",
    "    return sortino_ratio\n",
    "\n",
    "\n",
    "def calc_return(stock_ticker, period):\n",
    "    #start_dt = datetime.today() - timedelta(days = period * 40)\n",
    "    #stock_data = pd.DataFrame(get_data(stock_ticker, start_dt, datetime.today()))[(period*-21)-1:]\n",
    "    stock_data = data[stock_ticker.upper()][(period*-21)-1:]\n",
    "    stock_data.sort_index(inplace=True)\n",
    "    stock_data = stock_data.drop(stock_data.columns.difference(['Close']), axis=1)\n",
    "    p_return = (stock_data['Close'][-1] / stock_data['Close'][0])-1\n",
    "    return p_return"
   ]
  },
  {
   "cell_type": "code",
   "execution_count": 4,
   "id": "c83f60a4",
   "metadata": {
    "execution": {
     "iopub.execute_input": "2024-10-05T06:18:20.986067Z",
     "iopub.status.busy": "2024-10-05T06:18:20.985644Z",
     "iopub.status.idle": "2024-10-05T06:18:30.067398Z",
     "shell.execute_reply": "2024-10-05T06:18:30.066079Z"
    },
    "papermill": {
     "duration": 9.094208,
     "end_time": "2024-10-05T06:18:30.070339",
     "exception": false,
     "start_time": "2024-10-05T06:18:20.976131",
     "status": "completed"
    },
    "tags": []
   },
   "outputs": [
    {
     "name": "stderr",
     "output_type": "stream",
     "text": [
      "[*********************100%%**********************]  1 of 1 completed\n",
      "[*********************100%%**********************]  1 of 1 completed\n",
      "[*********************100%%**********************]  1 of 1 completed\n",
      "[*********************100%%**********************]  1 of 1 completed\n",
      "[*********************100%%**********************]  1 of 1 completed\n",
      "[*********************100%%**********************]  1 of 1 completed\n",
      "[*********************100%%**********************]  1 of 1 completed\n",
      "[*********************100%%**********************]  1 of 1 completed\n",
      "[*********************100%%**********************]  1 of 1 completed\n",
      "[*********************100%%**********************]  1 of 1 completed\n",
      "[*********************100%%**********************]  1 of 1 completed\n",
      "[*********************100%%**********************]  1 of 1 completed\n",
      "[*********************100%%**********************]  1 of 1 completed\n",
      "[*********************100%%**********************]  1 of 1 completed\n",
      "[*********************100%%**********************]  1 of 1 completed\n",
      "[*********************100%%**********************]  1 of 1 completed\n",
      "[*********************100%%**********************]  1 of 1 completed\n",
      "[*********************100%%**********************]  1 of 1 completed\n",
      "[*********************100%%**********************]  1 of 1 completed\n",
      "[*********************100%%**********************]  1 of 1 completed\n",
      "[*********************100%%**********************]  1 of 1 completed\n",
      "[*********************100%%**********************]  1 of 1 completed\n",
      "[*********************100%%**********************]  1 of 1 completed\n",
      "[*********************100%%**********************]  1 of 1 completed\n",
      "[*********************100%%**********************]  1 of 1 completed\n",
      "[*********************100%%**********************]  1 of 1 completed\n",
      "[*********************100%%**********************]  1 of 1 completed\n",
      "[*********************100%%**********************]  1 of 1 completed\n",
      "[*********************100%%**********************]  1 of 1 completed\n",
      "[*********************100%%**********************]  1 of 1 completed\n",
      "[*********************100%%**********************]  1 of 1 completed\n",
      "[*********************100%%**********************]  1 of 1 completed\n",
      "[*********************100%%**********************]  1 of 1 completed\n",
      "[*********************100%%**********************]  1 of 1 completed\n",
      "[*********************100%%**********************]  1 of 1 completed\n",
      "[*********************100%%**********************]  1 of 1 completed\n",
      "[*********************100%%**********************]  1 of 1 completed\n",
      "[*********************100%%**********************]  1 of 1 completed\n",
      "[*********************100%%**********************]  1 of 1 completed\n",
      "[*********************100%%**********************]  1 of 1 completed\n",
      "[*********************100%%**********************]  1 of 1 completed\n",
      "[*********************100%%**********************]  1 of 1 completed\n",
      "[*********************100%%**********************]  1 of 1 completed\n",
      "[*********************100%%**********************]  1 of 1 completed\n",
      "[*********************100%%**********************]  1 of 1 completed\n",
      "[*********************100%%**********************]  1 of 1 completed\n",
      "[*********************100%%**********************]  1 of 1 completed\n",
      "[*********************100%%**********************]  1 of 1 completed\n",
      "[*********************100%%**********************]  1 of 1 completed\n",
      "[*********************100%%**********************]  1 of 1 completed\n"
     ]
    }
   ],
   "source": [
    "#db = pd.read_csv(\"/content/drive/MyDrive/fin_code/input/ind_nifty50list.csv\")\n",
    "#tickers = [i + \".NS\" for i in db.Symbol]\n",
    "tickers = [\"ADANIENT.NS\",\t\"ADANIPORTS.NS\",\t\"APOLLOHOSP.NS\",\t\"ASIANPAINT.NS\",\t\"AXISBANK.NS\",\t\"BAJAJ-AUTO.NS\",\t\"BAJFINANCE.NS\",\t\"BAJAJFINSV.NS\",\t\"BPCL.NS\",\t\"BHARTIARTL.NS\",\t\"BRITANNIA.NS\",\t\"CIPLA.NS\",\t\"COALINDIA.NS\",\t\"DIVISLAB.NS\",\t\"DRREDDY.NS\",\t\"EICHERMOT.NS\",\t\"GRASIM.NS\",\t\"HCLTECH.NS\",\t\"HDFCBANK.NS\",\t\"HDFCLIFE.NS\",\t\"HEROMOTOCO.NS\",\t\"HINDALCO.NS\",\t\"HINDUNILVR.NS\",\t\"ICICIBANK.NS\",\t\"ITC.NS\",\t\"INDUSINDBK.NS\",\t\"INFY.NS\",\t\"JSWSTEEL.NS\",\t\"KOTAKBANK.NS\",\t\"LTIM.NS\",\t\"LT.NS\",\t\"M&M.NS\",\t\"MARUTI.NS\",\t\"NTPC.NS\",\t\"NESTLEIND.NS\",\t\"ONGC.NS\",\t\"POWERGRID.NS\",\t\"RELIANCE.NS\",\t\"SBILIFE.NS\",\t\"SHRIRAMFIN.NS\",\t\"SBIN.NS\",\t\"SUNPHARMA.NS\",\t\"TCS.NS\",\t\"TATACONSUM.NS\",\"TATAMOTORS.NS\",\"TATASTEEL.NS\",\t\"TECHM.NS\",\t\"TITAN.NS\",\t\"ULTRACEMCO.NS\",\t\"WIPRO.NS\"]\n",
    "\n",
    "# Data dictionary to hold stock data\n",
    "data = {}\n",
    "\n",
    "# Fetch data for all tickers\n",
    "for ticker in tickers:\n",
    "    try:\n",
    "        stock_data = get_data(ticker, start_date, end_date)\n",
    "        if len(stock_data) > 0:\n",
    "            data[ticker] = stock_data\n",
    "    except Exception as e:\n",
    "        print(f\"Error fetching data for {ticker}: {e}\")"
   ]
  },
  {
   "cell_type": "code",
   "execution_count": 5,
   "id": "82886fb9",
   "metadata": {
    "execution": {
     "iopub.execute_input": "2024-10-05T06:18:30.105711Z",
     "iopub.status.busy": "2024-10-05T06:18:30.105304Z",
     "iopub.status.idle": "2024-10-05T06:18:31.205018Z",
     "shell.execute_reply": "2024-10-05T06:18:31.203923Z"
    },
    "papermill": {
     "duration": 1.120535,
     "end_time": "2024-10-05T06:18:31.208239",
     "exception": false,
     "start_time": "2024-10-05T06:18:30.087704",
     "status": "completed"
    },
    "scrolled": true,
    "tags": []
   },
   "outputs": [],
   "source": [
    "# Create a DataFrame for summary\n",
    "summary = []\n",
    "\n",
    "# Analyze each stock\n",
    "for ticker, df in data.items():\n",
    "    try:\n",
    "        # Calculate EMAs\n",
    "        df['EMA100'] = df['Close'].ewm(span=100).mean()\n",
    "        df['EMA200'] = df['Close'].ewm(span=200).mean()\n",
    "\n",
    "        # Last 1-year return\n",
    "        one_year_return = (df['Close'][-1] / df['Close'][-252] - 1) * 100\n",
    "\n",
    "        # 52-week high\n",
    "        high_52_week = df['Close'][-252:].max()\n",
    "        within_20_pct_high = df['Close'][-1] >= high_52_week * 0.8\n",
    "\n",
    "        # More than 50% up days in the last 6 months (126 trading days)\n",
    "        six_month_data = df['Close'][-126:]\n",
    "        up_days = (six_month_data.pct_change() > 0).sum()\n",
    "        up_days_pct = up_days / len(six_month_data) * 100\n",
    "\n",
    "        # Filtering criteria\n",
    "        if (df['Close'][-1] >= df['EMA100'][-1] >= df['EMA200'][-1] and\n",
    "            one_year_return >= 6.5 and\n",
    "            within_20_pct_high and\n",
    "            up_days_pct > 50):\n",
    "\n",
    "            # Calculate returns\n",
    "            return_12m = (df['Close'][-1] / df['Close'][-252] - 1) * 100\n",
    "            return_9m = (df['Close'][-1] / df['Close'][-189] - 1) * 100\n",
    "            return_6m = (df['Close'][-1] / df['Close'][-126] - 1) * 100\n",
    "            return_3m = (df['Close'][-1] / df['Close'][-63] - 1) * 100\n",
    "\n",
    "            summary.append({\n",
    "                'Ticker': ticker,\n",
    "                'Return_12M': calc_return(ticker,12)*100,\n",
    "                'Return_9M': calc_return(ticker,9)*100,\n",
    "                'Return_6M': calc_return(ticker,6)*100,\n",
    "                'Return_3M': calc_return(ticker,3)*100,\n",
    "                'Sharpe_12M': calculate_sharpe_ratio(ticker, 12),\n",
    "                'Sharpe_9M': calculate_sharpe_ratio(ticker, 9),\n",
    "                'Sharpe_6M': calculate_sharpe_ratio(ticker, 6),\n",
    "                'Sharpe_3M': calculate_sharpe_ratio(ticker, 3),\n",
    "                'Sortino_12M': calculate_sortino_ratio(ticker, 12),\n",
    "                'Sortino_9M': calculate_sortino_ratio(ticker, 9),\n",
    "                'Sortino_6M': calculate_sortino_ratio(ticker, 6),\n",
    "                'Sortino_3M': calculate_sortino_ratio(ticker, 3)\n",
    "            })\n",
    "    except Exception as e:\n",
    "        print(f\"Error analyzing {ticker}: {e}\")"
   ]
  },
  {
   "cell_type": "code",
   "execution_count": 15,
   "id": "bea8f9db",
   "metadata": {
    "execution": {
     "iopub.execute_input": "2024-10-05T06:18:31.246147Z",
     "iopub.status.busy": "2024-10-05T06:18:31.245711Z",
     "iopub.status.idle": "2024-10-05T06:18:31.275844Z",
     "shell.execute_reply": "2024-10-05T06:18:31.274677Z"
    },
    "papermill": {
     "duration": 0.052143,
     "end_time": "2024-10-05T06:18:31.278617",
     "exception": false,
     "start_time": "2024-10-05T06:18:31.226474",
     "status": "completed"
    },
    "tags": []
   },
   "outputs": [],
   "source": [
    "# Convert summary to DataFrame\n",
    "df_summary = pd.DataFrame(summary,index=np.arange(1, len(summary)+1))\n",
    "\n",
    "rat = ['Sortino', 'Sharpe'] # also add ['Return', 'Sortino', 'Sharpe']\n",
    "per = [3,6,9,12]\n",
    "\n",
    "for i in rat:\n",
    "    for j in per:\n",
    "        xx = i+\"_\"+str(j)+\"M\"\n",
    "        df_summary[xx] = df_summary[xx].round(2)\n",
    "\n",
    "for i in rat:\n",
    "    arr = np.array([])\n",
    "    fx = \"Final_Rank_\" + i\n",
    "    for j in per:\n",
    "        xx = i+\"_\"+str(j)+\"M\"\n",
    "        rxx = \"Rank_\"+i+\"_\"+str(j)+\"M\"\n",
    "        arr = np.append(arr,rxx)\n",
    "        #arr = np.append(arr,arr)\n",
    "        df_summary[rxx] = df_summary[xx].rank(method='max',ascending=False)\n",
    "\n",
    "    df_summary[fx] = df_summary.loc[:,arr].sum(axis=1)"
   ]
  },
  {
   "cell_type": "code",
   "execution_count": 16,
   "id": "4b3956a6",
   "metadata": {
    "execution": {
     "iopub.execute_input": "2024-10-05T06:18:31.316576Z",
     "iopub.status.busy": "2024-10-05T06:18:31.316145Z",
     "iopub.status.idle": "2024-10-05T06:18:31.422121Z",
     "shell.execute_reply": "2024-10-05T06:18:31.420693Z"
    },
    "papermill": {
     "duration": 0.128519,
     "end_time": "2024-10-05T06:18:31.425215",
     "exception": false,
     "start_time": "2024-10-05T06:18:31.296696",
     "status": "completed"
    },
    "tags": []
   },
   "outputs": [],
   "source": [
    "#Export as .csv\n",
    "for i in rat:\n",
    "    arr = np.array([\"Ticker\"])\n",
    "    fx = \"Final_Rank_\" + i\n",
    "    arr = np.append(arr,fx)\n",
    "    for j in per:\n",
    "        xx = i+\"_\"+str(j)+\"M\"\n",
    "        rxx = \"Rank_\"+i+\"_\"+str(j)+\"M\"\n",
    "        arr = np.append(arr,rxx)\n",
    "        arr = np.append(arr,xx)\n",
    "\n",
    "    df_sorted = df_summary[arr].sort_values(fx)\n",
    "    df_sorted['Position'] = np.array([i for i in range(1, len(df_sorted)+1)])\n",
    "    df_sorted = df_sorted.reset_index(drop=True).set_index(['Position'])\n",
    "    \n",
    "    # save the dataframe as a csv file\n",
    "    df_sorted.to_csv(\"./outputs/nifty_list_{}_{}_sort.csv\".format(datetime.date(datetime.today()),i))"
   ]
  }
 ],
 "metadata": {
  "kaggle": {
   "accelerator": "none",
   "dataSources": [],
   "dockerImageVersionId": 30732,
   "isGpuEnabled": false,
   "isInternetEnabled": true,
   "language": "python",
   "sourceType": "notebook"
  },
  "kernelspec": {
   "display_name": "Python 3",
   "language": "python",
   "name": "python3"
  },
  "language_info": {
   "codemirror_mode": {
    "name": "ipython",
    "version": 3
   },
   "file_extension": ".py",
   "mimetype": "text/x-python",
   "name": "python",
   "nbconvert_exporter": "python",
   "pygments_lexer": "ipython3",
   "version": "3.11.5"
  },
  "papermill": {
   "default_parameters": {},
   "duration": 63.822687,
   "end_time": "2024-10-05T06:18:32.156628",
   "environment_variables": {},
   "exception": null,
   "input_path": "__notebook__.ipynb",
   "output_path": "__notebook__.ipynb",
   "parameters": {},
   "start_time": "2024-10-05T06:17:28.333941",
   "version": "2.5.0"
  }
 },
 "nbformat": 4,
 "nbformat_minor": 5
}
